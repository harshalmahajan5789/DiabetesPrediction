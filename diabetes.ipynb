{
 "cells": [
  {
   "cell_type": "markdown",
   "id": "5c788149",
   "metadata": {},
   "source": [
    "## Productionisation of Machine Learning Models"
   ]
  },
  {
   "cell_type": "markdown",
   "id": "8b7a2fed",
   "metadata": {},
   "source": [
    "### Diabetes Prediction dataset"
   ]
  },
  {
   "cell_type": "markdown",
   "id": "1c0526d5",
   "metadata": {},
   "source": [
    "Objective :\n",
    "To build a machine learning model to accurately predict whether the patients have diabetes or not and productionize these models.\n",
    "The datasets consists of several medical predictor variables and one target variable, Outcome. Predictor variables includes the number of pregnancies the patient has had, their BMI, insulin level, age, and so on.\n",
    "\n",
    "Pregnancies: Number of times pregnant\n",
    "Glucose: Plasma glucose concentration a 2 hours in an oral glucose tolerance test\n",
    "BloodPressure: Diastolic blood pressure (mm Hg)\n",
    "SkinThickness: Triceps skin fold thickness (mm)\n",
    "Insulin: 2-Hour serum insulin (mu U/ml)\n",
    "BMI: Body mass index (weight in kg/(height in m)2)\n",
    "DiabetesPedigreeFunction: Diabetes pedigree function\n",
    "Age:Age(years)\n",
    "Outcome: Classvariable(0 or 1)"
   ]
  },
  {
   "cell_type": "markdown",
   "id": "4fbb28c6",
   "metadata": {},
   "source": [
    "### Importing Libraries"
   ]
  },
  {
   "cell_type": "code",
   "execution_count": 57,
   "id": "35dc2da0",
   "metadata": {},
   "outputs": [],
   "source": [
    "import pandas as pd\n",
    "import numpy as np\n",
    "import matplotlib.pyplot as plt\n",
    "import seaborn as sns\n",
    "import re\n",
    "import warnings\n",
    "warnings.filterwarnings('ignore')"
   ]
  },
  {
   "cell_type": "code",
   "execution_count": 58,
   "id": "069831e9",
   "metadata": {},
   "outputs": [],
   "source": [
    "import pandas as pd\n",
    "pd.options.display.float_format = '{:.2f}'.format"
   ]
  },
  {
   "cell_type": "markdown",
   "id": "46c39fa0",
   "metadata": {},
   "source": [
    "Loading Dataset"
   ]
  },
  {
   "cell_type": "code",
   "execution_count": 59,
   "id": "e16cc099",
   "metadata": {},
   "outputs": [],
   "source": [
    "df = pd.read_csv(\"./diabetes.csv\")"
   ]
  },
  {
   "cell_type": "code",
   "execution_count": 60,
   "id": "082541f7",
   "metadata": {},
   "outputs": [
    {
     "data": {
      "text/html": [
       "<div>\n",
       "<style scoped>\n",
       "    .dataframe tbody tr th:only-of-type {\n",
       "        vertical-align: middle;\n",
       "    }\n",
       "\n",
       "    .dataframe tbody tr th {\n",
       "        vertical-align: top;\n",
       "    }\n",
       "\n",
       "    .dataframe thead th {\n",
       "        text-align: right;\n",
       "    }\n",
       "</style>\n",
       "<table border=\"1\" class=\"dataframe\">\n",
       "  <thead>\n",
       "    <tr style=\"text-align: right;\">\n",
       "      <th></th>\n",
       "      <th>Pregnancies</th>\n",
       "      <th>Glucose</th>\n",
       "      <th>BloodPressure</th>\n",
       "      <th>SkinThickness</th>\n",
       "      <th>Insulin</th>\n",
       "      <th>BMI</th>\n",
       "      <th>DiabetesPedigreeFunction</th>\n",
       "      <th>Age</th>\n",
       "      <th>Outcome</th>\n",
       "    </tr>\n",
       "  </thead>\n",
       "  <tbody>\n",
       "    <tr>\n",
       "      <th>0</th>\n",
       "      <td>6</td>\n",
       "      <td>148</td>\n",
       "      <td>72</td>\n",
       "      <td>35</td>\n",
       "      <td>0</td>\n",
       "      <td>33.60</td>\n",
       "      <td>0.63</td>\n",
       "      <td>50</td>\n",
       "      <td>1</td>\n",
       "    </tr>\n",
       "    <tr>\n",
       "      <th>1</th>\n",
       "      <td>1</td>\n",
       "      <td>85</td>\n",
       "      <td>66</td>\n",
       "      <td>29</td>\n",
       "      <td>0</td>\n",
       "      <td>26.60</td>\n",
       "      <td>0.35</td>\n",
       "      <td>31</td>\n",
       "      <td>0</td>\n",
       "    </tr>\n",
       "    <tr>\n",
       "      <th>2</th>\n",
       "      <td>8</td>\n",
       "      <td>183</td>\n",
       "      <td>64</td>\n",
       "      <td>0</td>\n",
       "      <td>0</td>\n",
       "      <td>23.30</td>\n",
       "      <td>0.67</td>\n",
       "      <td>32</td>\n",
       "      <td>1</td>\n",
       "    </tr>\n",
       "    <tr>\n",
       "      <th>3</th>\n",
       "      <td>1</td>\n",
       "      <td>89</td>\n",
       "      <td>66</td>\n",
       "      <td>23</td>\n",
       "      <td>94</td>\n",
       "      <td>28.10</td>\n",
       "      <td>0.17</td>\n",
       "      <td>21</td>\n",
       "      <td>0</td>\n",
       "    </tr>\n",
       "    <tr>\n",
       "      <th>4</th>\n",
       "      <td>0</td>\n",
       "      <td>137</td>\n",
       "      <td>40</td>\n",
       "      <td>35</td>\n",
       "      <td>168</td>\n",
       "      <td>43.10</td>\n",
       "      <td>2.29</td>\n",
       "      <td>33</td>\n",
       "      <td>1</td>\n",
       "    </tr>\n",
       "    <tr>\n",
       "      <th>...</th>\n",
       "      <td>...</td>\n",
       "      <td>...</td>\n",
       "      <td>...</td>\n",
       "      <td>...</td>\n",
       "      <td>...</td>\n",
       "      <td>...</td>\n",
       "      <td>...</td>\n",
       "      <td>...</td>\n",
       "      <td>...</td>\n",
       "    </tr>\n",
       "    <tr>\n",
       "      <th>763</th>\n",
       "      <td>10</td>\n",
       "      <td>101</td>\n",
       "      <td>76</td>\n",
       "      <td>48</td>\n",
       "      <td>180</td>\n",
       "      <td>32.90</td>\n",
       "      <td>0.17</td>\n",
       "      <td>63</td>\n",
       "      <td>0</td>\n",
       "    </tr>\n",
       "    <tr>\n",
       "      <th>764</th>\n",
       "      <td>2</td>\n",
       "      <td>122</td>\n",
       "      <td>70</td>\n",
       "      <td>27</td>\n",
       "      <td>0</td>\n",
       "      <td>36.80</td>\n",
       "      <td>0.34</td>\n",
       "      <td>27</td>\n",
       "      <td>0</td>\n",
       "    </tr>\n",
       "    <tr>\n",
       "      <th>765</th>\n",
       "      <td>5</td>\n",
       "      <td>121</td>\n",
       "      <td>72</td>\n",
       "      <td>23</td>\n",
       "      <td>112</td>\n",
       "      <td>26.20</td>\n",
       "      <td>0.24</td>\n",
       "      <td>30</td>\n",
       "      <td>0</td>\n",
       "    </tr>\n",
       "    <tr>\n",
       "      <th>766</th>\n",
       "      <td>1</td>\n",
       "      <td>126</td>\n",
       "      <td>60</td>\n",
       "      <td>0</td>\n",
       "      <td>0</td>\n",
       "      <td>30.10</td>\n",
       "      <td>0.35</td>\n",
       "      <td>47</td>\n",
       "      <td>1</td>\n",
       "    </tr>\n",
       "    <tr>\n",
       "      <th>767</th>\n",
       "      <td>1</td>\n",
       "      <td>93</td>\n",
       "      <td>70</td>\n",
       "      <td>31</td>\n",
       "      <td>0</td>\n",
       "      <td>30.40</td>\n",
       "      <td>0.32</td>\n",
       "      <td>23</td>\n",
       "      <td>0</td>\n",
       "    </tr>\n",
       "  </tbody>\n",
       "</table>\n",
       "<p>768 rows × 9 columns</p>\n",
       "</div>"
      ],
      "text/plain": [
       "     Pregnancies  Glucose  BloodPressure  SkinThickness  Insulin   BMI  \\\n",
       "0              6      148             72             35        0 33.60   \n",
       "1              1       85             66             29        0 26.60   \n",
       "2              8      183             64              0        0 23.30   \n",
       "3              1       89             66             23       94 28.10   \n",
       "4              0      137             40             35      168 43.10   \n",
       "..           ...      ...            ...            ...      ...   ...   \n",
       "763           10      101             76             48      180 32.90   \n",
       "764            2      122             70             27        0 36.80   \n",
       "765            5      121             72             23      112 26.20   \n",
       "766            1      126             60              0        0 30.10   \n",
       "767            1       93             70             31        0 30.40   \n",
       "\n",
       "     DiabetesPedigreeFunction  Age  Outcome  \n",
       "0                        0.63   50        1  \n",
       "1                        0.35   31        0  \n",
       "2                        0.67   32        1  \n",
       "3                        0.17   21        0  \n",
       "4                        2.29   33        1  \n",
       "..                        ...  ...      ...  \n",
       "763                      0.17   63        0  \n",
       "764                      0.34   27        0  \n",
       "765                      0.24   30        0  \n",
       "766                      0.35   47        1  \n",
       "767                      0.32   23        0  \n",
       "\n",
       "[768 rows x 9 columns]"
      ]
     },
     "execution_count": 60,
     "metadata": {},
     "output_type": "execute_result"
    }
   ],
   "source": [
    "df"
   ]
  },
  {
   "cell_type": "code",
   "execution_count": 61,
   "id": "57324f2a",
   "metadata": {},
   "outputs": [
    {
     "data": {
      "text/plain": [
       "(768, 9)"
      ]
     },
     "execution_count": 61,
     "metadata": {},
     "output_type": "execute_result"
    }
   ],
   "source": [
    "df.shape"
   ]
  },
  {
   "cell_type": "code",
   "execution_count": 63,
   "id": "c8b05338",
   "metadata": {},
   "outputs": [
    {
     "name": "stdout",
     "output_type": "stream",
     "text": [
      "<class 'pandas.core.frame.DataFrame'>\n",
      "RangeIndex: 768 entries, 0 to 767\n",
      "Data columns (total 9 columns):\n",
      " #   Column                    Non-Null Count  Dtype  \n",
      "---  ------                    --------------  -----  \n",
      " 0   Pregnancies               768 non-null    int64  \n",
      " 1   Glucose                   768 non-null    int64  \n",
      " 2   BloodPressure             768 non-null    int64  \n",
      " 3   SkinThickness             768 non-null    int64  \n",
      " 4   Insulin                   768 non-null    int64  \n",
      " 5   BMI                       768 non-null    float64\n",
      " 6   DiabetesPedigreeFunction  768 non-null    float64\n",
      " 7   Age                       768 non-null    int64  \n",
      " 8   Outcome                   768 non-null    int64  \n",
      "dtypes: float64(2), int64(7)\n",
      "memory usage: 54.1 KB\n"
     ]
    }
   ],
   "source": [
    "df.info()\n"
   ]
  },
  {
   "cell_type": "code",
   "execution_count": 64,
   "id": "bce262d9",
   "metadata": {},
   "outputs": [
    {
     "data": {
      "text/html": [
       "<div>\n",
       "<style scoped>\n",
       "    .dataframe tbody tr th:only-of-type {\n",
       "        vertical-align: middle;\n",
       "    }\n",
       "\n",
       "    .dataframe tbody tr th {\n",
       "        vertical-align: top;\n",
       "    }\n",
       "\n",
       "    .dataframe thead th {\n",
       "        text-align: right;\n",
       "    }\n",
       "</style>\n",
       "<table border=\"1\" class=\"dataframe\">\n",
       "  <thead>\n",
       "    <tr style=\"text-align: right;\">\n",
       "      <th></th>\n",
       "      <th>Pregnancies</th>\n",
       "      <th>Glucose</th>\n",
       "      <th>BloodPressure</th>\n",
       "      <th>SkinThickness</th>\n",
       "      <th>Insulin</th>\n",
       "      <th>BMI</th>\n",
       "      <th>DiabetesPedigreeFunction</th>\n",
       "      <th>Age</th>\n",
       "      <th>Outcome</th>\n",
       "    </tr>\n",
       "  </thead>\n",
       "  <tbody>\n",
       "    <tr>\n",
       "      <th>count</th>\n",
       "      <td>768.00</td>\n",
       "      <td>768.00</td>\n",
       "      <td>768.00</td>\n",
       "      <td>768.00</td>\n",
       "      <td>768.00</td>\n",
       "      <td>768.00</td>\n",
       "      <td>768.00</td>\n",
       "      <td>768.00</td>\n",
       "      <td>768.00</td>\n",
       "    </tr>\n",
       "    <tr>\n",
       "      <th>mean</th>\n",
       "      <td>3.85</td>\n",
       "      <td>120.89</td>\n",
       "      <td>69.11</td>\n",
       "      <td>20.54</td>\n",
       "      <td>79.80</td>\n",
       "      <td>31.99</td>\n",
       "      <td>0.47</td>\n",
       "      <td>33.24</td>\n",
       "      <td>0.35</td>\n",
       "    </tr>\n",
       "    <tr>\n",
       "      <th>std</th>\n",
       "      <td>3.37</td>\n",
       "      <td>31.97</td>\n",
       "      <td>19.36</td>\n",
       "      <td>15.95</td>\n",
       "      <td>115.24</td>\n",
       "      <td>7.88</td>\n",
       "      <td>0.33</td>\n",
       "      <td>11.76</td>\n",
       "      <td>0.48</td>\n",
       "    </tr>\n",
       "    <tr>\n",
       "      <th>min</th>\n",
       "      <td>0.00</td>\n",
       "      <td>0.00</td>\n",
       "      <td>0.00</td>\n",
       "      <td>0.00</td>\n",
       "      <td>0.00</td>\n",
       "      <td>0.00</td>\n",
       "      <td>0.08</td>\n",
       "      <td>21.00</td>\n",
       "      <td>0.00</td>\n",
       "    </tr>\n",
       "    <tr>\n",
       "      <th>25%</th>\n",
       "      <td>1.00</td>\n",
       "      <td>99.00</td>\n",
       "      <td>62.00</td>\n",
       "      <td>0.00</td>\n",
       "      <td>0.00</td>\n",
       "      <td>27.30</td>\n",
       "      <td>0.24</td>\n",
       "      <td>24.00</td>\n",
       "      <td>0.00</td>\n",
       "    </tr>\n",
       "    <tr>\n",
       "      <th>50%</th>\n",
       "      <td>3.00</td>\n",
       "      <td>117.00</td>\n",
       "      <td>72.00</td>\n",
       "      <td>23.00</td>\n",
       "      <td>30.50</td>\n",
       "      <td>32.00</td>\n",
       "      <td>0.37</td>\n",
       "      <td>29.00</td>\n",
       "      <td>0.00</td>\n",
       "    </tr>\n",
       "    <tr>\n",
       "      <th>75%</th>\n",
       "      <td>6.00</td>\n",
       "      <td>140.25</td>\n",
       "      <td>80.00</td>\n",
       "      <td>32.00</td>\n",
       "      <td>127.25</td>\n",
       "      <td>36.60</td>\n",
       "      <td>0.63</td>\n",
       "      <td>41.00</td>\n",
       "      <td>1.00</td>\n",
       "    </tr>\n",
       "    <tr>\n",
       "      <th>max</th>\n",
       "      <td>17.00</td>\n",
       "      <td>199.00</td>\n",
       "      <td>122.00</td>\n",
       "      <td>99.00</td>\n",
       "      <td>846.00</td>\n",
       "      <td>67.10</td>\n",
       "      <td>2.42</td>\n",
       "      <td>81.00</td>\n",
       "      <td>1.00</td>\n",
       "    </tr>\n",
       "  </tbody>\n",
       "</table>\n",
       "</div>"
      ],
      "text/plain": [
       "       Pregnancies  Glucose  BloodPressure  SkinThickness  Insulin    BMI  \\\n",
       "count       768.00   768.00         768.00         768.00   768.00 768.00   \n",
       "mean          3.85   120.89          69.11          20.54    79.80  31.99   \n",
       "std           3.37    31.97          19.36          15.95   115.24   7.88   \n",
       "min           0.00     0.00           0.00           0.00     0.00   0.00   \n",
       "25%           1.00    99.00          62.00           0.00     0.00  27.30   \n",
       "50%           3.00   117.00          72.00          23.00    30.50  32.00   \n",
       "75%           6.00   140.25          80.00          32.00   127.25  36.60   \n",
       "max          17.00   199.00         122.00          99.00   846.00  67.10   \n",
       "\n",
       "       DiabetesPedigreeFunction    Age  Outcome  \n",
       "count                    768.00 768.00   768.00  \n",
       "mean                       0.47  33.24     0.35  \n",
       "std                        0.33  11.76     0.48  \n",
       "min                        0.08  21.00     0.00  \n",
       "25%                        0.24  24.00     0.00  \n",
       "50%                        0.37  29.00     0.00  \n",
       "75%                        0.63  41.00     1.00  \n",
       "max                        2.42  81.00     1.00  "
      ]
     },
     "execution_count": 64,
     "metadata": {},
     "output_type": "execute_result"
    }
   ],
   "source": [
    "df.describe()"
   ]
  },
  {
   "cell_type": "code",
   "execution_count": 65,
   "id": "6884b9c7",
   "metadata": {},
   "outputs": [
    {
     "data": {
      "text/plain": [
       "Pregnancies                 0\n",
       "Glucose                     0\n",
       "BloodPressure               0\n",
       "SkinThickness               0\n",
       "Insulin                     0\n",
       "BMI                         0\n",
       "DiabetesPedigreeFunction    0\n",
       "Age                         0\n",
       "Outcome                     0\n",
       "dtype: int64"
      ]
     },
     "execution_count": 65,
     "metadata": {},
     "output_type": "execute_result"
    }
   ],
   "source": [
    "df.isnull().sum()"
   ]
  },
  {
   "cell_type": "code",
   "execution_count": 66,
   "id": "a92f94d6",
   "metadata": {},
   "outputs": [
    {
     "data": {
      "text/plain": [
       "Pregnancies                   int64\n",
       "Glucose                       int64\n",
       "BloodPressure                 int64\n",
       "SkinThickness                 int64\n",
       "Insulin                       int64\n",
       "BMI                         float64\n",
       "DiabetesPedigreeFunction    float64\n",
       "Age                           int64\n",
       "Outcome                       int64\n",
       "dtype: object"
      ]
     },
     "execution_count": 66,
     "metadata": {},
     "output_type": "execute_result"
    }
   ],
   "source": [
    "df.dtypes"
   ]
  },
  {
   "cell_type": "code",
   "execution_count": 67,
   "id": "14c8d997",
   "metadata": {},
   "outputs": [],
   "source": [
    "df['Glucose']=df['Glucose'].astype(float)"
   ]
  },
  {
   "cell_type": "code",
   "execution_count": 68,
   "id": "fb68ba3c",
   "metadata": {},
   "outputs": [],
   "source": [
    "df['BloodPressure']=df['BloodPressure'].astype(float)"
   ]
  },
  {
   "cell_type": "code",
   "execution_count": 69,
   "id": "12ffdbda",
   "metadata": {},
   "outputs": [],
   "source": [
    "df['SkinThickness']=df['SkinThickness'].astype(float)"
   ]
  },
  {
   "cell_type": "code",
   "execution_count": 70,
   "id": "f6d3c6fb",
   "metadata": {},
   "outputs": [],
   "source": [
    "df['Insulin']=df['Insulin'].astype(float)"
   ]
  },
  {
   "cell_type": "code",
   "execution_count": 71,
   "id": "1334a857",
   "metadata": {},
   "outputs": [
    {
     "data": {
      "text/plain": [
       "Pregnancies                   int64\n",
       "Glucose                     float64\n",
       "BloodPressure               float64\n",
       "SkinThickness               float64\n",
       "Insulin                     float64\n",
       "BMI                         float64\n",
       "DiabetesPedigreeFunction    float64\n",
       "Age                           int64\n",
       "Outcome                       int64\n",
       "dtype: object"
      ]
     },
     "execution_count": 71,
     "metadata": {},
     "output_type": "execute_result"
    }
   ],
   "source": [
    "df.dtypes"
   ]
  },
  {
   "cell_type": "code",
   "execution_count": 72,
   "id": "cd476a93",
   "metadata": {},
   "outputs": [
    {
     "data": {
      "text/html": [
       "<div>\n",
       "<style scoped>\n",
       "    .dataframe tbody tr th:only-of-type {\n",
       "        vertical-align: middle;\n",
       "    }\n",
       "\n",
       "    .dataframe tbody tr th {\n",
       "        vertical-align: top;\n",
       "    }\n",
       "\n",
       "    .dataframe thead th {\n",
       "        text-align: right;\n",
       "    }\n",
       "</style>\n",
       "<table border=\"1\" class=\"dataframe\">\n",
       "  <thead>\n",
       "    <tr style=\"text-align: right;\">\n",
       "      <th></th>\n",
       "      <th>Pregnancies</th>\n",
       "      <th>Glucose</th>\n",
       "      <th>BloodPressure</th>\n",
       "      <th>SkinThickness</th>\n",
       "      <th>Insulin</th>\n",
       "      <th>BMI</th>\n",
       "      <th>DiabetesPedigreeFunction</th>\n",
       "      <th>Age</th>\n",
       "      <th>Outcome</th>\n",
       "    </tr>\n",
       "  </thead>\n",
       "  <tbody>\n",
       "    <tr>\n",
       "      <th>0</th>\n",
       "      <td>6</td>\n",
       "      <td>148.00</td>\n",
       "      <td>72.00</td>\n",
       "      <td>35.00</td>\n",
       "      <td>0.00</td>\n",
       "      <td>33.60</td>\n",
       "      <td>0.63</td>\n",
       "      <td>50</td>\n",
       "      <td>1</td>\n",
       "    </tr>\n",
       "    <tr>\n",
       "      <th>1</th>\n",
       "      <td>1</td>\n",
       "      <td>85.00</td>\n",
       "      <td>66.00</td>\n",
       "      <td>29.00</td>\n",
       "      <td>0.00</td>\n",
       "      <td>26.60</td>\n",
       "      <td>0.35</td>\n",
       "      <td>31</td>\n",
       "      <td>0</td>\n",
       "    </tr>\n",
       "    <tr>\n",
       "      <th>2</th>\n",
       "      <td>8</td>\n",
       "      <td>183.00</td>\n",
       "      <td>64.00</td>\n",
       "      <td>0.00</td>\n",
       "      <td>0.00</td>\n",
       "      <td>23.30</td>\n",
       "      <td>0.67</td>\n",
       "      <td>32</td>\n",
       "      <td>1</td>\n",
       "    </tr>\n",
       "    <tr>\n",
       "      <th>3</th>\n",
       "      <td>1</td>\n",
       "      <td>89.00</td>\n",
       "      <td>66.00</td>\n",
       "      <td>23.00</td>\n",
       "      <td>94.00</td>\n",
       "      <td>28.10</td>\n",
       "      <td>0.17</td>\n",
       "      <td>21</td>\n",
       "      <td>0</td>\n",
       "    </tr>\n",
       "    <tr>\n",
       "      <th>4</th>\n",
       "      <td>0</td>\n",
       "      <td>137.00</td>\n",
       "      <td>40.00</td>\n",
       "      <td>35.00</td>\n",
       "      <td>168.00</td>\n",
       "      <td>43.10</td>\n",
       "      <td>2.29</td>\n",
       "      <td>33</td>\n",
       "      <td>1</td>\n",
       "    </tr>\n",
       "    <tr>\n",
       "      <th>5</th>\n",
       "      <td>5</td>\n",
       "      <td>116.00</td>\n",
       "      <td>74.00</td>\n",
       "      <td>0.00</td>\n",
       "      <td>0.00</td>\n",
       "      <td>25.60</td>\n",
       "      <td>0.20</td>\n",
       "      <td>30</td>\n",
       "      <td>0</td>\n",
       "    </tr>\n",
       "    <tr>\n",
       "      <th>6</th>\n",
       "      <td>3</td>\n",
       "      <td>78.00</td>\n",
       "      <td>50.00</td>\n",
       "      <td>32.00</td>\n",
       "      <td>88.00</td>\n",
       "      <td>31.00</td>\n",
       "      <td>0.25</td>\n",
       "      <td>26</td>\n",
       "      <td>1</td>\n",
       "    </tr>\n",
       "    <tr>\n",
       "      <th>7</th>\n",
       "      <td>10</td>\n",
       "      <td>115.00</td>\n",
       "      <td>0.00</td>\n",
       "      <td>0.00</td>\n",
       "      <td>0.00</td>\n",
       "      <td>35.30</td>\n",
       "      <td>0.13</td>\n",
       "      <td>29</td>\n",
       "      <td>0</td>\n",
       "    </tr>\n",
       "    <tr>\n",
       "      <th>8</th>\n",
       "      <td>2</td>\n",
       "      <td>197.00</td>\n",
       "      <td>70.00</td>\n",
       "      <td>45.00</td>\n",
       "      <td>543.00</td>\n",
       "      <td>30.50</td>\n",
       "      <td>0.16</td>\n",
       "      <td>53</td>\n",
       "      <td>1</td>\n",
       "    </tr>\n",
       "    <tr>\n",
       "      <th>9</th>\n",
       "      <td>8</td>\n",
       "      <td>125.00</td>\n",
       "      <td>96.00</td>\n",
       "      <td>0.00</td>\n",
       "      <td>0.00</td>\n",
       "      <td>0.00</td>\n",
       "      <td>0.23</td>\n",
       "      <td>54</td>\n",
       "      <td>1</td>\n",
       "    </tr>\n",
       "    <tr>\n",
       "      <th>10</th>\n",
       "      <td>4</td>\n",
       "      <td>110.00</td>\n",
       "      <td>92.00</td>\n",
       "      <td>0.00</td>\n",
       "      <td>0.00</td>\n",
       "      <td>37.60</td>\n",
       "      <td>0.19</td>\n",
       "      <td>30</td>\n",
       "      <td>0</td>\n",
       "    </tr>\n",
       "    <tr>\n",
       "      <th>11</th>\n",
       "      <td>10</td>\n",
       "      <td>168.00</td>\n",
       "      <td>74.00</td>\n",
       "      <td>0.00</td>\n",
       "      <td>0.00</td>\n",
       "      <td>38.00</td>\n",
       "      <td>0.54</td>\n",
       "      <td>34</td>\n",
       "      <td>1</td>\n",
       "    </tr>\n",
       "    <tr>\n",
       "      <th>12</th>\n",
       "      <td>10</td>\n",
       "      <td>139.00</td>\n",
       "      <td>80.00</td>\n",
       "      <td>0.00</td>\n",
       "      <td>0.00</td>\n",
       "      <td>27.10</td>\n",
       "      <td>1.44</td>\n",
       "      <td>57</td>\n",
       "      <td>0</td>\n",
       "    </tr>\n",
       "    <tr>\n",
       "      <th>13</th>\n",
       "      <td>1</td>\n",
       "      <td>189.00</td>\n",
       "      <td>60.00</td>\n",
       "      <td>23.00</td>\n",
       "      <td>846.00</td>\n",
       "      <td>30.10</td>\n",
       "      <td>0.40</td>\n",
       "      <td>59</td>\n",
       "      <td>1</td>\n",
       "    </tr>\n",
       "    <tr>\n",
       "      <th>14</th>\n",
       "      <td>5</td>\n",
       "      <td>166.00</td>\n",
       "      <td>72.00</td>\n",
       "      <td>19.00</td>\n",
       "      <td>175.00</td>\n",
       "      <td>25.80</td>\n",
       "      <td>0.59</td>\n",
       "      <td>51</td>\n",
       "      <td>1</td>\n",
       "    </tr>\n",
       "    <tr>\n",
       "      <th>15</th>\n",
       "      <td>7</td>\n",
       "      <td>100.00</td>\n",
       "      <td>0.00</td>\n",
       "      <td>0.00</td>\n",
       "      <td>0.00</td>\n",
       "      <td>30.00</td>\n",
       "      <td>0.48</td>\n",
       "      <td>32</td>\n",
       "      <td>1</td>\n",
       "    </tr>\n",
       "    <tr>\n",
       "      <th>16</th>\n",
       "      <td>0</td>\n",
       "      <td>118.00</td>\n",
       "      <td>84.00</td>\n",
       "      <td>47.00</td>\n",
       "      <td>230.00</td>\n",
       "      <td>45.80</td>\n",
       "      <td>0.55</td>\n",
       "      <td>31</td>\n",
       "      <td>1</td>\n",
       "    </tr>\n",
       "    <tr>\n",
       "      <th>17</th>\n",
       "      <td>7</td>\n",
       "      <td>107.00</td>\n",
       "      <td>74.00</td>\n",
       "      <td>0.00</td>\n",
       "      <td>0.00</td>\n",
       "      <td>29.60</td>\n",
       "      <td>0.25</td>\n",
       "      <td>31</td>\n",
       "      <td>1</td>\n",
       "    </tr>\n",
       "    <tr>\n",
       "      <th>18</th>\n",
       "      <td>1</td>\n",
       "      <td>103.00</td>\n",
       "      <td>30.00</td>\n",
       "      <td>38.00</td>\n",
       "      <td>83.00</td>\n",
       "      <td>43.30</td>\n",
       "      <td>0.18</td>\n",
       "      <td>33</td>\n",
       "      <td>0</td>\n",
       "    </tr>\n",
       "    <tr>\n",
       "      <th>19</th>\n",
       "      <td>1</td>\n",
       "      <td>115.00</td>\n",
       "      <td>70.00</td>\n",
       "      <td>30.00</td>\n",
       "      <td>96.00</td>\n",
       "      <td>34.60</td>\n",
       "      <td>0.53</td>\n",
       "      <td>32</td>\n",
       "      <td>1</td>\n",
       "    </tr>\n",
       "    <tr>\n",
       "      <th>20</th>\n",
       "      <td>3</td>\n",
       "      <td>126.00</td>\n",
       "      <td>88.00</td>\n",
       "      <td>41.00</td>\n",
       "      <td>235.00</td>\n",
       "      <td>39.30</td>\n",
       "      <td>0.70</td>\n",
       "      <td>27</td>\n",
       "      <td>0</td>\n",
       "    </tr>\n",
       "    <tr>\n",
       "      <th>21</th>\n",
       "      <td>8</td>\n",
       "      <td>99.00</td>\n",
       "      <td>84.00</td>\n",
       "      <td>0.00</td>\n",
       "      <td>0.00</td>\n",
       "      <td>35.40</td>\n",
       "      <td>0.39</td>\n",
       "      <td>50</td>\n",
       "      <td>0</td>\n",
       "    </tr>\n",
       "    <tr>\n",
       "      <th>22</th>\n",
       "      <td>7</td>\n",
       "      <td>196.00</td>\n",
       "      <td>90.00</td>\n",
       "      <td>0.00</td>\n",
       "      <td>0.00</td>\n",
       "      <td>39.80</td>\n",
       "      <td>0.45</td>\n",
       "      <td>41</td>\n",
       "      <td>1</td>\n",
       "    </tr>\n",
       "    <tr>\n",
       "      <th>23</th>\n",
       "      <td>9</td>\n",
       "      <td>119.00</td>\n",
       "      <td>80.00</td>\n",
       "      <td>35.00</td>\n",
       "      <td>0.00</td>\n",
       "      <td>29.00</td>\n",
       "      <td>0.26</td>\n",
       "      <td>29</td>\n",
       "      <td>1</td>\n",
       "    </tr>\n",
       "    <tr>\n",
       "      <th>24</th>\n",
       "      <td>11</td>\n",
       "      <td>143.00</td>\n",
       "      <td>94.00</td>\n",
       "      <td>33.00</td>\n",
       "      <td>146.00</td>\n",
       "      <td>36.60</td>\n",
       "      <td>0.25</td>\n",
       "      <td>51</td>\n",
       "      <td>1</td>\n",
       "    </tr>\n",
       "    <tr>\n",
       "      <th>25</th>\n",
       "      <td>10</td>\n",
       "      <td>125.00</td>\n",
       "      <td>70.00</td>\n",
       "      <td>26.00</td>\n",
       "      <td>115.00</td>\n",
       "      <td>31.10</td>\n",
       "      <td>0.20</td>\n",
       "      <td>41</td>\n",
       "      <td>1</td>\n",
       "    </tr>\n",
       "    <tr>\n",
       "      <th>26</th>\n",
       "      <td>7</td>\n",
       "      <td>147.00</td>\n",
       "      <td>76.00</td>\n",
       "      <td>0.00</td>\n",
       "      <td>0.00</td>\n",
       "      <td>39.40</td>\n",
       "      <td>0.26</td>\n",
       "      <td>43</td>\n",
       "      <td>1</td>\n",
       "    </tr>\n",
       "    <tr>\n",
       "      <th>27</th>\n",
       "      <td>1</td>\n",
       "      <td>97.00</td>\n",
       "      <td>66.00</td>\n",
       "      <td>15.00</td>\n",
       "      <td>140.00</td>\n",
       "      <td>23.20</td>\n",
       "      <td>0.49</td>\n",
       "      <td>22</td>\n",
       "      <td>0</td>\n",
       "    </tr>\n",
       "    <tr>\n",
       "      <th>28</th>\n",
       "      <td>13</td>\n",
       "      <td>145.00</td>\n",
       "      <td>82.00</td>\n",
       "      <td>19.00</td>\n",
       "      <td>110.00</td>\n",
       "      <td>22.20</td>\n",
       "      <td>0.24</td>\n",
       "      <td>57</td>\n",
       "      <td>0</td>\n",
       "    </tr>\n",
       "    <tr>\n",
       "      <th>29</th>\n",
       "      <td>5</td>\n",
       "      <td>117.00</td>\n",
       "      <td>92.00</td>\n",
       "      <td>0.00</td>\n",
       "      <td>0.00</td>\n",
       "      <td>34.10</td>\n",
       "      <td>0.34</td>\n",
       "      <td>38</td>\n",
       "      <td>0</td>\n",
       "    </tr>\n",
       "    <tr>\n",
       "      <th>30</th>\n",
       "      <td>5</td>\n",
       "      <td>109.00</td>\n",
       "      <td>75.00</td>\n",
       "      <td>26.00</td>\n",
       "      <td>0.00</td>\n",
       "      <td>36.00</td>\n",
       "      <td>0.55</td>\n",
       "      <td>60</td>\n",
       "      <td>0</td>\n",
       "    </tr>\n",
       "    <tr>\n",
       "      <th>31</th>\n",
       "      <td>3</td>\n",
       "      <td>158.00</td>\n",
       "      <td>76.00</td>\n",
       "      <td>36.00</td>\n",
       "      <td>245.00</td>\n",
       "      <td>31.60</td>\n",
       "      <td>0.85</td>\n",
       "      <td>28</td>\n",
       "      <td>1</td>\n",
       "    </tr>\n",
       "    <tr>\n",
       "      <th>32</th>\n",
       "      <td>3</td>\n",
       "      <td>88.00</td>\n",
       "      <td>58.00</td>\n",
       "      <td>11.00</td>\n",
       "      <td>54.00</td>\n",
       "      <td>24.80</td>\n",
       "      <td>0.27</td>\n",
       "      <td>22</td>\n",
       "      <td>0</td>\n",
       "    </tr>\n",
       "    <tr>\n",
       "      <th>33</th>\n",
       "      <td>6</td>\n",
       "      <td>92.00</td>\n",
       "      <td>92.00</td>\n",
       "      <td>0.00</td>\n",
       "      <td>0.00</td>\n",
       "      <td>19.90</td>\n",
       "      <td>0.19</td>\n",
       "      <td>28</td>\n",
       "      <td>0</td>\n",
       "    </tr>\n",
       "    <tr>\n",
       "      <th>34</th>\n",
       "      <td>10</td>\n",
       "      <td>122.00</td>\n",
       "      <td>78.00</td>\n",
       "      <td>31.00</td>\n",
       "      <td>0.00</td>\n",
       "      <td>27.60</td>\n",
       "      <td>0.51</td>\n",
       "      <td>45</td>\n",
       "      <td>0</td>\n",
       "    </tr>\n",
       "    <tr>\n",
       "      <th>35</th>\n",
       "      <td>4</td>\n",
       "      <td>103.00</td>\n",
       "      <td>60.00</td>\n",
       "      <td>33.00</td>\n",
       "      <td>192.00</td>\n",
       "      <td>24.00</td>\n",
       "      <td>0.97</td>\n",
       "      <td>33</td>\n",
       "      <td>0</td>\n",
       "    </tr>\n",
       "    <tr>\n",
       "      <th>36</th>\n",
       "      <td>11</td>\n",
       "      <td>138.00</td>\n",
       "      <td>76.00</td>\n",
       "      <td>0.00</td>\n",
       "      <td>0.00</td>\n",
       "      <td>33.20</td>\n",
       "      <td>0.42</td>\n",
       "      <td>35</td>\n",
       "      <td>0</td>\n",
       "    </tr>\n",
       "    <tr>\n",
       "      <th>37</th>\n",
       "      <td>9</td>\n",
       "      <td>102.00</td>\n",
       "      <td>76.00</td>\n",
       "      <td>37.00</td>\n",
       "      <td>0.00</td>\n",
       "      <td>32.90</td>\n",
       "      <td>0.67</td>\n",
       "      <td>46</td>\n",
       "      <td>1</td>\n",
       "    </tr>\n",
       "    <tr>\n",
       "      <th>38</th>\n",
       "      <td>2</td>\n",
       "      <td>90.00</td>\n",
       "      <td>68.00</td>\n",
       "      <td>42.00</td>\n",
       "      <td>0.00</td>\n",
       "      <td>38.20</td>\n",
       "      <td>0.50</td>\n",
       "      <td>27</td>\n",
       "      <td>1</td>\n",
       "    </tr>\n",
       "    <tr>\n",
       "      <th>39</th>\n",
       "      <td>4</td>\n",
       "      <td>111.00</td>\n",
       "      <td>72.00</td>\n",
       "      <td>47.00</td>\n",
       "      <td>207.00</td>\n",
       "      <td>37.10</td>\n",
       "      <td>1.39</td>\n",
       "      <td>56</td>\n",
       "      <td>1</td>\n",
       "    </tr>\n",
       "  </tbody>\n",
       "</table>\n",
       "</div>"
      ],
      "text/plain": [
       "    Pregnancies  Glucose  BloodPressure  SkinThickness  Insulin   BMI  \\\n",
       "0             6   148.00          72.00          35.00     0.00 33.60   \n",
       "1             1    85.00          66.00          29.00     0.00 26.60   \n",
       "2             8   183.00          64.00           0.00     0.00 23.30   \n",
       "3             1    89.00          66.00          23.00    94.00 28.10   \n",
       "4             0   137.00          40.00          35.00   168.00 43.10   \n",
       "5             5   116.00          74.00           0.00     0.00 25.60   \n",
       "6             3    78.00          50.00          32.00    88.00 31.00   \n",
       "7            10   115.00           0.00           0.00     0.00 35.30   \n",
       "8             2   197.00          70.00          45.00   543.00 30.50   \n",
       "9             8   125.00          96.00           0.00     0.00  0.00   \n",
       "10            4   110.00          92.00           0.00     0.00 37.60   \n",
       "11           10   168.00          74.00           0.00     0.00 38.00   \n",
       "12           10   139.00          80.00           0.00     0.00 27.10   \n",
       "13            1   189.00          60.00          23.00   846.00 30.10   \n",
       "14            5   166.00          72.00          19.00   175.00 25.80   \n",
       "15            7   100.00           0.00           0.00     0.00 30.00   \n",
       "16            0   118.00          84.00          47.00   230.00 45.80   \n",
       "17            7   107.00          74.00           0.00     0.00 29.60   \n",
       "18            1   103.00          30.00          38.00    83.00 43.30   \n",
       "19            1   115.00          70.00          30.00    96.00 34.60   \n",
       "20            3   126.00          88.00          41.00   235.00 39.30   \n",
       "21            8    99.00          84.00           0.00     0.00 35.40   \n",
       "22            7   196.00          90.00           0.00     0.00 39.80   \n",
       "23            9   119.00          80.00          35.00     0.00 29.00   \n",
       "24           11   143.00          94.00          33.00   146.00 36.60   \n",
       "25           10   125.00          70.00          26.00   115.00 31.10   \n",
       "26            7   147.00          76.00           0.00     0.00 39.40   \n",
       "27            1    97.00          66.00          15.00   140.00 23.20   \n",
       "28           13   145.00          82.00          19.00   110.00 22.20   \n",
       "29            5   117.00          92.00           0.00     0.00 34.10   \n",
       "30            5   109.00          75.00          26.00     0.00 36.00   \n",
       "31            3   158.00          76.00          36.00   245.00 31.60   \n",
       "32            3    88.00          58.00          11.00    54.00 24.80   \n",
       "33            6    92.00          92.00           0.00     0.00 19.90   \n",
       "34           10   122.00          78.00          31.00     0.00 27.60   \n",
       "35            4   103.00          60.00          33.00   192.00 24.00   \n",
       "36           11   138.00          76.00           0.00     0.00 33.20   \n",
       "37            9   102.00          76.00          37.00     0.00 32.90   \n",
       "38            2    90.00          68.00          42.00     0.00 38.20   \n",
       "39            4   111.00          72.00          47.00   207.00 37.10   \n",
       "\n",
       "    DiabetesPedigreeFunction  Age  Outcome  \n",
       "0                       0.63   50        1  \n",
       "1                       0.35   31        0  \n",
       "2                       0.67   32        1  \n",
       "3                       0.17   21        0  \n",
       "4                       2.29   33        1  \n",
       "5                       0.20   30        0  \n",
       "6                       0.25   26        1  \n",
       "7                       0.13   29        0  \n",
       "8                       0.16   53        1  \n",
       "9                       0.23   54        1  \n",
       "10                      0.19   30        0  \n",
       "11                      0.54   34        1  \n",
       "12                      1.44   57        0  \n",
       "13                      0.40   59        1  \n",
       "14                      0.59   51        1  \n",
       "15                      0.48   32        1  \n",
       "16                      0.55   31        1  \n",
       "17                      0.25   31        1  \n",
       "18                      0.18   33        0  \n",
       "19                      0.53   32        1  \n",
       "20                      0.70   27        0  \n",
       "21                      0.39   50        0  \n",
       "22                      0.45   41        1  \n",
       "23                      0.26   29        1  \n",
       "24                      0.25   51        1  \n",
       "25                      0.20   41        1  \n",
       "26                      0.26   43        1  \n",
       "27                      0.49   22        0  \n",
       "28                      0.24   57        0  \n",
       "29                      0.34   38        0  \n",
       "30                      0.55   60        0  \n",
       "31                      0.85   28        1  \n",
       "32                      0.27   22        0  \n",
       "33                      0.19   28        0  \n",
       "34                      0.51   45        0  \n",
       "35                      0.97   33        0  \n",
       "36                      0.42   35        0  \n",
       "37                      0.67   46        1  \n",
       "38                      0.50   27        1  \n",
       "39                      1.39   56        1  "
      ]
     },
     "execution_count": 72,
     "metadata": {},
     "output_type": "execute_result"
    }
   ],
   "source": [
    "df.head(40)"
   ]
  },
  {
   "cell_type": "code",
   "execution_count": 73,
   "id": "92b7b8e4",
   "metadata": {},
   "outputs": [
    {
     "data": {
      "text/plain": [
       "Index(['Pregnancies', 'Glucose', 'BloodPressure', 'SkinThickness', 'Insulin',\n",
       "       'BMI', 'DiabetesPedigreeFunction', 'Age', 'Outcome'],\n",
       "      dtype='object')"
      ]
     },
     "execution_count": 73,
     "metadata": {},
     "output_type": "execute_result"
    }
   ],
   "source": [
    "num_df = df.select_dtypes(include=['int64', 'float64'])\n",
    "num_df.columns"
   ]
  },
  {
   "cell_type": "code",
   "execution_count": 74,
   "id": "81edcb52",
   "metadata": {},
   "outputs": [
    {
     "name": "stdout",
     "output_type": "stream",
     "text": [
      "Index(['Pregnancies', 'Glucose', 'BloodPressure', 'SkinThickness', 'Insulin',\n",
      "       'BMI', 'DiabetesPedigreeFunction', 'Age', 'Outcome'],\n",
      "      dtype='object')\n",
      "9\n"
     ]
    }
   ],
   "source": [
    "print(num_df.columns)\n",
    "print(len(num_df.columns))"
   ]
  },
  {
   "cell_type": "code",
   "execution_count": 75,
   "id": "51ffae02",
   "metadata": {},
   "outputs": [
    {
     "data": {
      "text/plain": [
       "array([[<Axes: ylabel='Frequency'>, <Axes: ylabel='Frequency'>],\n",
       "       [<Axes: ylabel='Frequency'>, <Axes: ylabel='Frequency'>],\n",
       "       [<Axes: ylabel='Frequency'>, <Axes: ylabel='Frequency'>],\n",
       "       [<Axes: ylabel='Frequency'>, <Axes: ylabel='Frequency'>],\n",
       "       [<Axes: ylabel='Frequency'>, <Axes: ylabel='Frequency'>]],\n",
       "      dtype=object)"
      ]
     },
     "execution_count": 75,
     "metadata": {},
     "output_type": "execute_result"
    },
    {
     "data": {
      "image/png": "[encoded data removed]",
      "text/plain": [
       "<Figure size 1400x1400 with 10 Axes>"
      ]
     },
     "metadata": {},
     "output_type": "display_data"
    }
   ],
   "source": [
    "num_df.plot(kind='hist', subplots=True, layout=(5, 2), figsize=(14, 14))"
   ]
  },
  {
   "cell_type": "code",
   "execution_count": 76,
   "id": "d192945a",
   "metadata": {},
   "outputs": [
    {
     "data": {
      "text/plain": [
       "Pregnancies                    Axes(0.125,0.747241;0.352273x0.132759)\n",
       "Glucose                     Axes(0.547727,0.747241;0.352273x0.132759)\n",
       "BloodPressure                  Axes(0.125,0.587931;0.352273x0.132759)\n",
       "SkinThickness               Axes(0.547727,0.587931;0.352273x0.132759)\n",
       "Insulin                        Axes(0.125,0.428621;0.352273x0.132759)\n",
       "BMI                         Axes(0.547727,0.428621;0.352273x0.132759)\n",
       "DiabetesPedigreeFunction        Axes(0.125,0.26931;0.352273x0.132759)\n",
       "Age                          Axes(0.547727,0.26931;0.352273x0.132759)\n",
       "Outcome                            Axes(0.125,0.11;0.352273x0.132759)\n",
       "dtype: object"
      ]
     },
     "execution_count": 76,
     "metadata": {},
     "output_type": "execute_result"
    },
    {
     "data": {
      "image/png": "[encoded data removed]",
      "text/plain": [
       "<Figure size 1400x1400 with 10 Axes>"
      ]
     },
     "metadata": {},
     "output_type": "display_data"
    }
   ],
   "source": [
    "num_df.plot(kind='box', subplots=True, layout=(5, 2), figsize=(14, 14))"
   ]
  },
  {
   "cell_type": "code",
   "execution_count": 77,
   "id": "e139f825",
   "metadata": {},
   "outputs": [
    {
     "data": {
      "text/plain": [
       "0    500\n",
       "1    268\n",
       "Name: Outcome, dtype: int64"
      ]
     },
     "execution_count": 77,
     "metadata": {},
     "output_type": "execute_result"
    }
   ],
   "source": [
    "df['Outcome'].value_counts()"
   ]
  },
  {
   "cell_type": "code",
   "execution_count": 78,
   "id": "bc22e60d",
   "metadata": {},
   "outputs": [
    {
     "data": {
      "image/png": "[encoded data removed]",
      "text/plain": [
       "<Figure size 1200x600 with 1 Axes>"
      ]
     },
     "metadata": {},
     "output_type": "display_data"
    }
   ],
   "source": [
    "df['Outcome'].value_counts().plot(kind='pie', autopct='%1.0f%%', title=\"Brand Pie Chart\", figsize=(12,6))\n",
    "plt.show()"
   ]
  },
  {
   "cell_type": "markdown",
   "id": "a6379ffa",
   "metadata": {},
   "source": [
    "### Split into dependent and independent"
   ]
  },
  {
   "cell_type": "code",
   "execution_count": 79,
   "id": "d9174a9c",
   "metadata": {},
   "outputs": [],
   "source": [
    "X = df.drop(\"Outcome\", axis = 1)"
   ]
  },
  {
   "cell_type": "code",
   "execution_count": 80,
   "id": "1ea5b62f",
   "metadata": {},
   "outputs": [
    {
     "data": {
      "text/html": [
       "<div>\n",
       "<style scoped>\n",
       "    .dataframe tbody tr th:only-of-type {\n",
       "        vertical-align: middle;\n",
       "    }\n",
       "\n",
       "    .dataframe tbody tr th {\n",
       "        vertical-align: top;\n",
       "    }\n",
       "\n",
       "    .dataframe thead th {\n",
       "        text-align: right;\n",
       "    }\n",
       "</style>\n",
       "<table border=\"1\" class=\"dataframe\">\n",
       "  <thead>\n",
       "    <tr style=\"text-align: right;\">\n",
       "      <th></th>\n",
       "      <th>Pregnancies</th>\n",
       "      <th>Glucose</th>\n",
       "      <th>BloodPressure</th>\n",
       "      <th>SkinThickness</th>\n",
       "      <th>Insulin</th>\n",
       "      <th>BMI</th>\n",
       "      <th>DiabetesPedigreeFunction</th>\n",
       "      <th>Age</th>\n",
       "    </tr>\n",
       "  </thead>\n",
       "  <tbody>\n",
       "    <tr>\n",
       "      <th>0</th>\n",
       "      <td>6</td>\n",
       "      <td>148.00</td>\n",
       "      <td>72.00</td>\n",
       "      <td>35.00</td>\n",
       "      <td>0.00</td>\n",
       "      <td>33.60</td>\n",
       "      <td>0.63</td>\n",
       "      <td>50</td>\n",
       "    </tr>\n",
       "    <tr>\n",
       "      <th>1</th>\n",
       "      <td>1</td>\n",
       "      <td>85.00</td>\n",
       "      <td>66.00</td>\n",
       "      <td>29.00</td>\n",
       "      <td>0.00</td>\n",
       "      <td>26.60</td>\n",
       "      <td>0.35</td>\n",
       "      <td>31</td>\n",
       "    </tr>\n",
       "    <tr>\n",
       "      <th>2</th>\n",
       "      <td>8</td>\n",
       "      <td>183.00</td>\n",
       "      <td>64.00</td>\n",
       "      <td>0.00</td>\n",
       "      <td>0.00</td>\n",
       "      <td>23.30</td>\n",
       "      <td>0.67</td>\n",
       "      <td>32</td>\n",
       "    </tr>\n",
       "    <tr>\n",
       "      <th>3</th>\n",
       "      <td>1</td>\n",
       "      <td>89.00</td>\n",
       "      <td>66.00</td>\n",
       "      <td>23.00</td>\n",
       "      <td>94.00</td>\n",
       "      <td>28.10</td>\n",
       "      <td>0.17</td>\n",
       "      <td>21</td>\n",
       "    </tr>\n",
       "    <tr>\n",
       "      <th>4</th>\n",
       "      <td>0</td>\n",
       "      <td>137.00</td>\n",
       "      <td>40.00</td>\n",
       "      <td>35.00</td>\n",
       "      <td>168.00</td>\n",
       "      <td>43.10</td>\n",
       "      <td>2.29</td>\n",
       "      <td>33</td>\n",
       "    </tr>\n",
       "    <tr>\n",
       "      <th>...</th>\n",
       "      <td>...</td>\n",
       "      <td>...</td>\n",
       "      <td>...</td>\n",
       "      <td>...</td>\n",
       "      <td>...</td>\n",
       "      <td>...</td>\n",
       "      <td>...</td>\n",
       "      <td>...</td>\n",
       "    </tr>\n",
       "    <tr>\n",
       "      <th>763</th>\n",
       "      <td>10</td>\n",
       "      <td>101.00</td>\n",
       "      <td>76.00</td>\n",
       "      <td>48.00</td>\n",
       "      <td>180.00</td>\n",
       "      <td>32.90</td>\n",
       "      <td>0.17</td>\n",
       "      <td>63</td>\n",
       "    </tr>\n",
       "    <tr>\n",
       "      <th>764</th>\n",
       "      <td>2</td>\n",
       "      <td>122.00</td>\n",
       "      <td>70.00</td>\n",
       "      <td>27.00</td>\n",
       "      <td>0.00</td>\n",
       "      <td>36.80</td>\n",
       "      <td>0.34</td>\n",
       "      <td>27</td>\n",
       "    </tr>\n",
       "    <tr>\n",
       "      <th>765</th>\n",
       "      <td>5</td>\n",
       "      <td>121.00</td>\n",
       "      <td>72.00</td>\n",
       "      <td>23.00</td>\n",
       "      <td>112.00</td>\n",
       "      <td>26.20</td>\n",
       "      <td>0.24</td>\n",
       "      <td>30</td>\n",
       "    </tr>\n",
       "    <tr>\n",
       "      <th>766</th>\n",
       "      <td>1</td>\n",
       "      <td>126.00</td>\n",
       "      <td>60.00</td>\n",
       "      <td>0.00</td>\n",
       "      <td>0.00</td>\n",
       "      <td>30.10</td>\n",
       "      <td>0.35</td>\n",
       "      <td>47</td>\n",
       "    </tr>\n",
       "    <tr>\n",
       "      <th>767</th>\n",
       "      <td>1</td>\n",
       "      <td>93.00</td>\n",
       "      <td>70.00</td>\n",
       "      <td>31.00</td>\n",
       "      <td>0.00</td>\n",
       "      <td>30.40</td>\n",
       "      <td>0.32</td>\n",
       "      <td>23</td>\n",
       "    </tr>\n",
       "  </tbody>\n",
       "</table>\n",
       "<p>768 rows × 8 columns</p>\n",
       "</div>"
      ],
      "text/plain": [
       "     Pregnancies  Glucose  BloodPressure  SkinThickness  Insulin   BMI  \\\n",
       "0              6   148.00          72.00          35.00     0.00 33.60   \n",
       "1              1    85.00          66.00          29.00     0.00 26.60   \n",
       "2              8   183.00          64.00           0.00     0.00 23.30   \n",
       "3              1    89.00          66.00          23.00    94.00 28.10   \n",
       "4              0   137.00          40.00          35.00   168.00 43.10   \n",
       "..           ...      ...            ...            ...      ...   ...   \n",
       "763           10   101.00          76.00          48.00   180.00 32.90   \n",
       "764            2   122.00          70.00          27.00     0.00 36.80   \n",
       "765            5   121.00          72.00          23.00   112.00 26.20   \n",
       "766            1   126.00          60.00           0.00     0.00 30.10   \n",
       "767            1    93.00          70.00          31.00     0.00 30.40   \n",
       "\n",
       "     DiabetesPedigreeFunction  Age  \n",
       "0                        0.63   50  \n",
       "1                        0.35   31  \n",
       "2                        0.67   32  \n",
       "3                        0.17   21  \n",
       "4                        2.29   33  \n",
       "..                        ...  ...  \n",
       "763                      0.17   63  \n",
       "764                      0.34   27  \n",
       "765                      0.24   30  \n",
       "766                      0.35   47  \n",
       "767                      0.32   23  \n",
       "\n",
       "[768 rows x 8 columns]"
      ]
     },
     "execution_count": 80,
     "metadata": {},
     "output_type": "execute_result"
    }
   ],
   "source": [
    "X"
   ]
  },
  {
   "cell_type": "code",
   "execution_count": 81,
   "id": "83bc4d11",
   "metadata": {},
   "outputs": [],
   "source": [
    "y = df[\"Outcome\"]"
   ]
  },
  {
   "cell_type": "code",
   "execution_count": 82,
   "id": "dee2390a",
   "metadata": {},
   "outputs": [
    {
     "data": {
      "text/plain": [
       "0      1\n",
       "1      0\n",
       "2      1\n",
       "3      0\n",
       "4      1\n",
       "      ..\n",
       "763    0\n",
       "764    0\n",
       "765    0\n",
       "766    1\n",
       "767    0\n",
       "Name: Outcome, Length: 768, dtype: int64"
      ]
     },
     "execution_count": 82,
     "metadata": {},
     "output_type": "execute_result"
    }
   ],
   "source": [
    "y"
   ]
  },
  {
   "cell_type": "markdown",
   "id": "34d54381",
   "metadata": {},
   "source": [
    "### Test Train Split"
   ]
  },
  {
   "cell_type": "code",
   "execution_count": 83,
   "id": "cb3ada02",
   "metadata": {},
   "outputs": [],
   "source": [
    "from sklearn.model_selection import train_test_split"
   ]
  },
  {
   "cell_type": "code",
   "execution_count": 84,
   "id": "473f22c2",
   "metadata": {},
   "outputs": [],
   "source": [
    "X_train, X_test, y_train, y_test = train_test_split(X, y, test_size = 0.2, random_state = 10)"
   ]
  },
  {
   "cell_type": "code",
   "execution_count": 85,
   "id": "e7cbfe08",
   "metadata": {},
   "outputs": [
    {
     "data": {
      "text/html": [
       "<div>\n",
       "<style scoped>\n",
       "    .dataframe tbody tr th:only-of-type {\n",
       "        vertical-align: middle;\n",
       "    }\n",
       "\n",
       "    .dataframe tbody tr th {\n",
       "        vertical-align: top;\n",
       "    }\n",
       "\n",
       "    .dataframe thead th {\n",
       "        text-align: right;\n",
       "    }\n",
       "</style>\n",
       "<table border=\"1\" class=\"dataframe\">\n",
       "  <thead>\n",
       "    <tr style=\"text-align: right;\">\n",
       "      <th></th>\n",
       "      <th>Pregnancies</th>\n",
       "      <th>Glucose</th>\n",
       "      <th>BloodPressure</th>\n",
       "      <th>SkinThickness</th>\n",
       "      <th>Insulin</th>\n",
       "      <th>BMI</th>\n",
       "      <th>DiabetesPedigreeFunction</th>\n",
       "      <th>Age</th>\n",
       "    </tr>\n",
       "  </thead>\n",
       "  <tbody>\n",
       "    <tr>\n",
       "      <th>120</th>\n",
       "      <td>0</td>\n",
       "      <td>162.00</td>\n",
       "      <td>76.00</td>\n",
       "      <td>56.00</td>\n",
       "      <td>100.00</td>\n",
       "      <td>53.20</td>\n",
       "      <td>0.76</td>\n",
       "      <td>25</td>\n",
       "    </tr>\n",
       "    <tr>\n",
       "      <th>172</th>\n",
       "      <td>2</td>\n",
       "      <td>87.00</td>\n",
       "      <td>0.00</td>\n",
       "      <td>23.00</td>\n",
       "      <td>0.00</td>\n",
       "      <td>28.90</td>\n",
       "      <td>0.77</td>\n",
       "      <td>25</td>\n",
       "    </tr>\n",
       "    <tr>\n",
       "      <th>307</th>\n",
       "      <td>0</td>\n",
       "      <td>137.00</td>\n",
       "      <td>68.00</td>\n",
       "      <td>14.00</td>\n",
       "      <td>148.00</td>\n",
       "      <td>24.80</td>\n",
       "      <td>0.14</td>\n",
       "      <td>21</td>\n",
       "    </tr>\n",
       "    <tr>\n",
       "      <th>7</th>\n",
       "      <td>10</td>\n",
       "      <td>115.00</td>\n",
       "      <td>0.00</td>\n",
       "      <td>0.00</td>\n",
       "      <td>0.00</td>\n",
       "      <td>35.30</td>\n",
       "      <td>0.13</td>\n",
       "      <td>29</td>\n",
       "    </tr>\n",
       "    <tr>\n",
       "      <th>448</th>\n",
       "      <td>0</td>\n",
       "      <td>104.00</td>\n",
       "      <td>64.00</td>\n",
       "      <td>37.00</td>\n",
       "      <td>64.00</td>\n",
       "      <td>33.60</td>\n",
       "      <td>0.51</td>\n",
       "      <td>22</td>\n",
       "    </tr>\n",
       "    <tr>\n",
       "      <th>...</th>\n",
       "      <td>...</td>\n",
       "      <td>...</td>\n",
       "      <td>...</td>\n",
       "      <td>...</td>\n",
       "      <td>...</td>\n",
       "      <td>...</td>\n",
       "      <td>...</td>\n",
       "      <td>...</td>\n",
       "    </tr>\n",
       "    <tr>\n",
       "      <th>369</th>\n",
       "      <td>1</td>\n",
       "      <td>133.00</td>\n",
       "      <td>102.00</td>\n",
       "      <td>28.00</td>\n",
       "      <td>140.00</td>\n",
       "      <td>32.80</td>\n",
       "      <td>0.23</td>\n",
       "      <td>45</td>\n",
       "    </tr>\n",
       "    <tr>\n",
       "      <th>320</th>\n",
       "      <td>4</td>\n",
       "      <td>129.00</td>\n",
       "      <td>60.00</td>\n",
       "      <td>12.00</td>\n",
       "      <td>231.00</td>\n",
       "      <td>27.50</td>\n",
       "      <td>0.53</td>\n",
       "      <td>31</td>\n",
       "    </tr>\n",
       "    <tr>\n",
       "      <th>527</th>\n",
       "      <td>3</td>\n",
       "      <td>116.00</td>\n",
       "      <td>74.00</td>\n",
       "      <td>15.00</td>\n",
       "      <td>105.00</td>\n",
       "      <td>26.30</td>\n",
       "      <td>0.11</td>\n",
       "      <td>24</td>\n",
       "    </tr>\n",
       "    <tr>\n",
       "      <th>125</th>\n",
       "      <td>1</td>\n",
       "      <td>88.00</td>\n",
       "      <td>30.00</td>\n",
       "      <td>42.00</td>\n",
       "      <td>99.00</td>\n",
       "      <td>55.00</td>\n",
       "      <td>0.50</td>\n",
       "      <td>26</td>\n",
       "    </tr>\n",
       "    <tr>\n",
       "      <th>265</th>\n",
       "      <td>5</td>\n",
       "      <td>96.00</td>\n",
       "      <td>74.00</td>\n",
       "      <td>18.00</td>\n",
       "      <td>67.00</td>\n",
       "      <td>33.60</td>\n",
       "      <td>1.00</td>\n",
       "      <td>43</td>\n",
       "    </tr>\n",
       "  </tbody>\n",
       "</table>\n",
       "<p>614 rows × 8 columns</p>\n",
       "</div>"
      ],
      "text/plain": [
       "     Pregnancies  Glucose  BloodPressure  SkinThickness  Insulin   BMI  \\\n",
       "120            0   162.00          76.00          56.00   100.00 53.20   \n",
       "172            2    87.00           0.00          23.00     0.00 28.90   \n",
       "307            0   137.00          68.00          14.00   148.00 24.80   \n",
       "7             10   115.00           0.00           0.00     0.00 35.30   \n",
       "448            0   104.00          64.00          37.00    64.00 33.60   \n",
       "..           ...      ...            ...            ...      ...   ...   \n",
       "369            1   133.00         102.00          28.00   140.00 32.80   \n",
       "320            4   129.00          60.00          12.00   231.00 27.50   \n",
       "527            3   116.00          74.00          15.00   105.00 26.30   \n",
       "125            1    88.00          30.00          42.00    99.00 55.00   \n",
       "265            5    96.00          74.00          18.00    67.00 33.60   \n",
       "\n",
       "     DiabetesPedigreeFunction  Age  \n",
       "120                      0.76   25  \n",
       "172                      0.77   25  \n",
       "307                      0.14   21  \n",
       "7                        0.13   29  \n",
       "448                      0.51   22  \n",
       "..                        ...  ...  \n",
       "369                      0.23   45  \n",
       "320                      0.53   31  \n",
       "527                      0.11   24  \n",
       "125                      0.50   26  \n",
       "265                      1.00   43  \n",
       "\n",
       "[614 rows x 8 columns]"
      ]
     },
     "execution_count": 85,
     "metadata": {},
     "output_type": "execute_result"
    }
   ],
   "source": [
    "X_train"
   ]
  },
  {
   "cell_type": "code",
   "execution_count": 86,
   "id": "42117ed7",
   "metadata": {},
   "outputs": [
    {
     "data": {
      "text/plain": [
       "120    1\n",
       "172    0\n",
       "307    0\n",
       "7      0\n",
       "448    1\n",
       "      ..\n",
       "369    1\n",
       "320    0\n",
       "527    0\n",
       "125    1\n",
       "265    0\n",
       "Name: Outcome, Length: 614, dtype: int64"
      ]
     },
     "execution_count": 86,
     "metadata": {},
     "output_type": "execute_result"
    }
   ],
   "source": [
    "y_train"
   ]
  },
  {
   "cell_type": "markdown",
   "id": "19f83aba",
   "metadata": {},
   "source": [
    "### Data Preprocessing on Training Data"
   ]
  },
  {
   "cell_type": "code",
   "execution_count": 87,
   "id": "b661ca85",
   "metadata": {},
   "outputs": [],
   "source": [
    "from sklearn.preprocessing import StandardScaler"
   ]
  },
  {
   "cell_type": "code",
   "execution_count": 88,
   "id": "f5f9ebac",
   "metadata": {},
   "outputs": [],
   "source": [
    "sc =StandardScaler()"
   ]
  },
  {
   "cell_type": "code",
   "execution_count": 89,
   "id": "f8afcb71",
   "metadata": {},
   "outputs": [],
   "source": [
    "X_train_scaled = sc.fit_transform(X_train)"
   ]
  },
  {
   "cell_type": "code",
   "execution_count": 90,
   "id": "5ebf36fc",
   "metadata": {},
   "outputs": [
    {
     "data": {
      "text/plain": [
       "array([[-1.1328442 ,  1.24373812,  0.3472366 , ...,  2.72776337,\n",
       "         0.90749721, -0.69845742],\n",
       "       [-0.54212969, -1.05209466, -3.48608463, ..., -0.36979162,\n",
       "         0.95037384, -0.69845742],\n",
       "       [-1.1328442 ,  0.47846052, -0.0562709 , ..., -0.89242436,\n",
       "        -0.97907465, -1.03881683],\n",
       "       ...,\n",
       "       [-0.24677243, -0.16437265,  0.24635973, ..., -0.70121726,\n",
       "        -1.08932885, -0.78354727],\n",
       "       [-0.83748694, -1.02148356, -1.97293151, ...,  2.95721189,\n",
       "         0.10202903, -0.61336757],\n",
       "       [ 0.34394208, -0.77659473,  0.24635973, ...,  0.22932395,\n",
       "         1.63639998,  0.83315992]])"
      ]
     },
     "execution_count": 90,
     "metadata": {},
     "output_type": "execute_result"
    }
   ],
   "source": [
    "X_train_scaled"
   ]
  },
  {
   "cell_type": "markdown",
   "id": "fc58e820",
   "metadata": {},
   "source": [
    "### Preparing Test Data"
   ]
  },
  {
   "cell_type": "code",
   "execution_count": 91,
   "id": "12da7ea3",
   "metadata": {},
   "outputs": [],
   "source": [
    "X_test_scaled = sc.transform(X_test)"
   ]
  },
  {
   "cell_type": "code",
   "execution_count": 92,
   "id": "22984614",
   "metadata": {},
   "outputs": [
    {
     "data": {
      "text/plain": [
       "array([[ 0.04858483,  0.99884929,  0.14548285, ..., -0.06386026,\n",
       "        -0.3818644 ,  0.32262081],\n",
       "       [-0.54212969, -0.28681707,  0.85162098, ...,  0.84118667,\n",
       "        -0.66362514, -0.44318786],\n",
       "       [-0.83748694,  0.41723832, -0.76240902, ..., -0.6502287 ,\n",
       "         0.68698881,  2.44986711],\n",
       "       ...,\n",
       "       [ 1.23001385, -1.11331687, -0.71197058, ..., -0.94341292,\n",
       "        -1.00051297,  0.74807007],\n",
       "       [ 0.34394208,  0.2641828 ,  0.64986723, ...,  0.93041665,\n",
       "         1.51083269,  0.32262081],\n",
       "       [-0.24677243, -0.68476142, -0.76240902, ..., -0.79044724,\n",
       "        -0.94538587, -0.78354727]])"
      ]
     },
     "execution_count": 92,
     "metadata": {},
     "output_type": "execute_result"
    }
   ],
   "source": [
    "X_test_scaled "
   ]
  },
  {
   "cell_type": "markdown",
   "id": "2a512ffb",
   "metadata": {},
   "source": [
    "### KNeighborsClassifier"
   ]
  },
  {
   "cell_type": "code",
   "execution_count": 93,
   "id": "1f2b15d6",
   "metadata": {},
   "outputs": [],
   "source": [
    "from sklearn.neighbors import KNeighborsClassifier\n",
    "knn_model = KNeighborsClassifier()\n",
    "knn_model.fit(X_train_scaled,y_train)\n",
    "y_pred = knn_model.predict(X_test_scaled)"
   ]
  },
  {
   "cell_type": "code",
   "execution_count": 94,
   "id": "6f3d2714",
   "metadata": {},
   "outputs": [
    {
     "name": "stdout",
     "output_type": "stream",
     "text": [
      "Accuracy Score: 66.23376623376623 %\n",
      "Classification report:\n",
      "               precision    recall  f1-score   support\n",
      "\n",
      "           0       0.68      0.85      0.76        95\n",
      "           1       0.60      0.36      0.45        59\n",
      "\n",
      "    accuracy                           0.66       154\n",
      "   macro avg       0.64      0.60      0.60       154\n",
      "weighted avg       0.65      0.66      0.64       154\n",
      "\n",
      "Confusion Matrix:\n",
      " [[81 14]\n",
      " [38 21]]\n"
     ]
    }
   ],
   "source": [
    "from sklearn.metrics import accuracy_score, confusion_matrix,classification_report\n",
    "print(\"Accuracy Score:\", accuracy_score(y_test, y_pred) * 100,\"%\")\n",
    "print(\"Classification report:\\n\", classification_report(y_test,y_pred)) \n",
    "print(\"Confusion Matrix:\\n\", confusion_matrix(y_test,y_pred))"
   ]
  },
  {
   "cell_type": "markdown",
   "id": "4959ec54",
   "metadata": {},
   "source": [
    "### LogisticRegression"
   ]
  },
  {
   "cell_type": "code",
   "execution_count": 95,
   "id": "30b0caec",
   "metadata": {},
   "outputs": [],
   "source": [
    "from sklearn.linear_model import LogisticRegression\n",
    "lor_model = LogisticRegression()\n",
    "lor_model.fit(X_train_scaled,y_train)\n",
    "y_pred = lor_model.predict(X_test_scaled)"
   ]
  },
  {
   "cell_type": "code",
   "execution_count": 96,
   "id": "fa9496d1",
   "metadata": {},
   "outputs": [
    {
     "name": "stdout",
     "output_type": "stream",
     "text": [
      "Accuracy Score: 76.62337662337663 %\n",
      "Classification report:\n",
      "               precision    recall  f1-score   support\n",
      "\n",
      "           0       0.75      0.93      0.83        95\n",
      "           1       0.81      0.51      0.62        59\n",
      "\n",
      "    accuracy                           0.77       154\n",
      "   macro avg       0.78      0.72      0.73       154\n",
      "weighted avg       0.77      0.77      0.75       154\n",
      "\n",
      "Confusion Matrix:\n",
      " [[88  7]\n",
      " [29 30]]\n"
     ]
    }
   ],
   "source": [
    "from sklearn.metrics import accuracy_score, confusion_matrix,classification_report\n",
    "print(\"Accuracy Score:\", accuracy_score(y_test, y_pred) * 100,\"%\")\n",
    "print(\"Classification report:\\n\", classification_report(y_test,y_pred)) \n",
    "print(\"Confusion Matrix:\\n\", confusion_matrix(y_test,y_pred))"
   ]
  },
  {
   "cell_type": "markdown",
   "id": "5615f15b",
   "metadata": {},
   "source": [
    "### DecisionTreeClassifier"
   ]
  },
  {
   "cell_type": "code",
   "execution_count": 97,
   "id": "35fc8134",
   "metadata": {},
   "outputs": [],
   "source": [
    "from sklearn.tree import DecisionTreeClassifier\n",
    "dt_model = DecisionTreeClassifier(max_depth = 3)\n",
    "dt_model.fit(X_train_scaled, y_train)\n",
    "y_pred = dt_model.predict(X_test_scaled)"
   ]
  },
  {
   "cell_type": "code",
   "execution_count": 98,
   "id": "df2097ae",
   "metadata": {},
   "outputs": [
    {
     "name": "stdout",
     "output_type": "stream",
     "text": [
      "Accuracy Score: 69.48051948051948 %\n",
      "Classification report:\n",
      "               precision    recall  f1-score   support\n",
      "\n",
      "           0       0.68      0.97      0.80        95\n",
      "           1       0.83      0.25      0.39        59\n",
      "\n",
      "    accuracy                           0.69       154\n",
      "   macro avg       0.75      0.61      0.59       154\n",
      "weighted avg       0.74      0.69      0.64       154\n",
      "\n",
      "Confusion Matrix:\n",
      " [[92  3]\n",
      " [44 15]]\n"
     ]
    }
   ],
   "source": [
    "from sklearn.metrics import accuracy_score, confusion_matrix,f1_score,classification_report\n",
    "print(\"Accuracy Score:\", accuracy_score(y_test, y_pred) * 100,\"%\")\n",
    "print(\"Classification report:\\n\", classification_report(y_test,y_pred)) \n",
    "print(\"Confusion Matrix:\\n\", confusion_matrix(y_test,y_pred))"
   ]
  },
  {
   "cell_type": "markdown",
   "id": "3d6ef112",
   "metadata": {},
   "source": [
    "### RandomForestClassifier"
   ]
  },
  {
   "cell_type": "code",
   "execution_count": 99,
   "id": "aa65b0be",
   "metadata": {},
   "outputs": [],
   "source": [
    "from sklearn.ensemble import RandomForestClassifier\n",
    "\n",
    "rf_model = RandomForestClassifier(n_estimators = 101)\n",
    "rf_model.fit(X_train,y_train)\n",
    "y_pred = rf_model.predict(X_test)"
   ]
  },
  {
   "cell_type": "code",
   "execution_count": 100,
   "id": "afa8ccf2",
   "metadata": {},
   "outputs": [
    {
     "name": "stdout",
     "output_type": "stream",
     "text": [
      "Accuracy Score: 74.67532467532467 %\n",
      "Classification report:\n",
      "               precision    recall  f1-score   support\n",
      "\n",
      "           0       0.75      0.88      0.81        95\n",
      "           1       0.74      0.53      0.61        59\n",
      "\n",
      "    accuracy                           0.75       154\n",
      "   macro avg       0.74      0.70      0.71       154\n",
      "weighted avg       0.75      0.75      0.74       154\n",
      "\n",
      "Confusion Matrix:\n",
      " [[84 11]\n",
      " [28 31]]\n"
     ]
    }
   ],
   "source": [
    "from sklearn.metrics import accuracy_score, confusion_matrix,classification_report\n",
    "print(\"Accuracy Score:\", accuracy_score(y_test, y_pred) * 100,\"%\")\n",
    "print(\"Classification report:\\n\", classification_report(y_test,y_pred)) \n",
    "print(\"Confusion Matrix:\\n\", confusion_matrix(y_test,y_pred))"
   ]
  },
  {
   "cell_type": "markdown",
   "id": "0bbcd623",
   "metadata": {},
   "source": [
    "### Linear SVM"
   ]
  },
  {
   "cell_type": "code",
   "execution_count": 101,
   "id": "ac9aba4e",
   "metadata": {},
   "outputs": [],
   "source": [
    "from sklearn.svm import LinearSVC\n",
    "svm_model = LinearSVC()\n",
    "svm_model.fit(X_train_scaled,y_train)\n",
    "y_pred = svm_model.predict(X_test_scaled)"
   ]
  },
  {
   "cell_type": "code",
   "execution_count": 102,
   "id": "3967d9c0",
   "metadata": {},
   "outputs": [
    {
     "name": "stdout",
     "output_type": "stream",
     "text": [
      "Accuracy Score: 76.62337662337663 %\n",
      "Classification report:\n",
      "               precision    recall  f1-score   support\n",
      "\n",
      "           0       0.75      0.93      0.83        95\n",
      "           1       0.81      0.51      0.62        59\n",
      "\n",
      "    accuracy                           0.77       154\n",
      "   macro avg       0.78      0.72      0.73       154\n",
      "weighted avg       0.77      0.77      0.75       154\n",
      "\n",
      "Confusion Matrix:\n",
      " [[88  7]\n",
      " [29 30]]\n"
     ]
    }
   ],
   "source": [
    "from sklearn.metrics import accuracy_score, confusion_matrix,classification_report\n",
    "print(\"Accuracy Score:\", accuracy_score(y_test, y_pred) * 100,\"%\")\n",
    "print(\"Classification report:\\n\", classification_report(y_test,y_pred)) \n",
    "print(\"Confusion Matrix:\\n\", confusion_matrix(y_test,y_pred))"
   ]
  },
  {
   "cell_type": "markdown",
   "id": "a3ab1269",
   "metadata": {},
   "source": [
    "### AdaBoost Classifier"
   ]
  },
  {
   "cell_type": "code",
   "execution_count": 103,
   "id": "3a17fed6",
   "metadata": {},
   "outputs": [],
   "source": [
    "from sklearn.ensemble import AdaBoostClassifier\n",
    "from sklearn.linear_model import LogisticRegression\n",
    "lor_model = LogisticRegression()\n",
    "ada_model = AdaBoostClassifier(base_estimator = lor_model, n_estimators = 10)\n",
    "ada_model.fit(X_train_scaled,y_train)\n",
    "y_pred = ada_model.predict(X_test_scaled)"
   ]
  },
  {
   "cell_type": "code",
   "execution_count": 104,
   "id": "a6917573",
   "metadata": {},
   "outputs": [
    {
     "name": "stdout",
     "output_type": "stream",
     "text": [
      "Accuracy Score: 74.67532467532467 %\n",
      "Classification report:\n",
      "               precision    recall  f1-score   support\n",
      "\n",
      "           0       0.73      0.93      0.82        95\n",
      "           1       0.79      0.46      0.58        59\n",
      "\n",
      "    accuracy                           0.75       154\n",
      "   macro avg       0.76      0.69      0.70       154\n",
      "weighted avg       0.76      0.75      0.73       154\n",
      "\n",
      "Confusion Matrix:\n",
      " [[88  7]\n",
      " [32 27]]\n"
     ]
    }
   ],
   "source": [
    "from sklearn.metrics import accuracy_score, confusion_matrix,classification_report\n",
    "print(\"Accuracy Score:\", accuracy_score(y_test, y_pred) * 100,\"%\")\n",
    "print(\"Classification report:\\n\", classification_report(y_test,y_pred)) \n",
    "print(\"Confusion Matrix:\\n\", confusion_matrix(y_test,y_pred))"
   ]
  },
  {
   "cell_type": "markdown",
   "id": "e9f26efc",
   "metadata": {},
   "source": [
    "### Gradient Boosting Classifier"
   ]
  },
  {
   "cell_type": "code",
   "execution_count": 105,
   "id": "7047dfe3",
   "metadata": {},
   "outputs": [],
   "source": [
    "from sklearn.ensemble import GradientBoostingClassifier\n",
    "gbm_model = GradientBoostingClassifier(learning_rate = 0.6,n_estimators = 10)\n",
    "gbm_model.fit(X_train_scaled, y_train)\n",
    "y_pred = gbm_model.predict(X_test_scaled)\n"
   ]
  },
  {
   "cell_type": "code",
   "execution_count": 106,
   "id": "922ace3f",
   "metadata": {},
   "outputs": [
    {
     "name": "stdout",
     "output_type": "stream",
     "text": [
      "Accuracy Score: 75.32467532467533 %\n",
      "Classification report:\n",
      "               precision    recall  f1-score   support\n",
      "\n",
      "           0       0.77      0.85      0.81        95\n",
      "           1       0.71      0.59      0.65        59\n",
      "\n",
      "    accuracy                           0.75       154\n",
      "   macro avg       0.74      0.72      0.73       154\n",
      "weighted avg       0.75      0.75      0.75       154\n",
      "\n",
      "Confusion Matrix:\n",
      " [[81 14]\n",
      " [24 35]]\n"
     ]
    }
   ],
   "source": [
    "from sklearn.metrics import accuracy_score, confusion_matrix,classification_report\n",
    "print(\"Accuracy Score:\", accuracy_score(y_test, y_pred) * 100,\"%\")\n",
    "print(\"Classification report:\\n\", classification_report(y_test,y_pred)) \n",
    "print(\"Confusion Matrix:\\n\", confusion_matrix(y_test,y_pred))"
   ]
  },
  {
   "cell_type": "code",
   "execution_count": 107,
   "id": "0fdf5591",
   "metadata": {},
   "outputs": [
    {
     "data": {
      "text/html": [
       "<div>\n",
       "<style scoped>\n",
       "    .dataframe tbody tr th:only-of-type {\n",
       "        vertical-align: middle;\n",
       "    }\n",
       "\n",
       "    .dataframe tbody tr th {\n",
       "        vertical-align: top;\n",
       "    }\n",
       "\n",
       "    .dataframe thead th {\n",
       "        text-align: right;\n",
       "    }\n",
       "</style>\n",
       "<table border=\"1\" class=\"dataframe\">\n",
       "  <thead>\n",
       "    <tr style=\"text-align: right;\">\n",
       "      <th></th>\n",
       "      <th>Model Name</th>\n",
       "      <th>Accuracy Score</th>\n",
       "    </tr>\n",
       "  </thead>\n",
       "  <tbody>\n",
       "    <tr>\n",
       "      <th>0</th>\n",
       "      <td>K Neighbors Classifier</td>\n",
       "      <td>66.23</td>\n",
       "    </tr>\n",
       "    <tr>\n",
       "      <th>1</th>\n",
       "      <td>Logistic Regression</td>\n",
       "      <td>76.62</td>\n",
       "    </tr>\n",
       "    <tr>\n",
       "      <th>2</th>\n",
       "      <td>Decision Tree Classifier</td>\n",
       "      <td>69.48</td>\n",
       "    </tr>\n",
       "    <tr>\n",
       "      <th>3</th>\n",
       "      <td>Random Forest Classifier</td>\n",
       "      <td>74.67</td>\n",
       "    </tr>\n",
       "    <tr>\n",
       "      <th>4</th>\n",
       "      <td>Linear SVM</td>\n",
       "      <td>76.62</td>\n",
       "    </tr>\n",
       "    <tr>\n",
       "      <th>5</th>\n",
       "      <td>AdaBoost Classifier</td>\n",
       "      <td>74.67</td>\n",
       "    </tr>\n",
       "    <tr>\n",
       "      <th>6</th>\n",
       "      <td>Gradient Boosting Classifier</td>\n",
       "      <td>75.32</td>\n",
       "    </tr>\n",
       "  </tbody>\n",
       "</table>\n",
       "</div>"
      ],
      "text/plain": [
       "                     Model Name  Accuracy Score\n",
       "0        K Neighbors Classifier           66.23\n",
       "1           Logistic Regression           76.62\n",
       "2      Decision Tree Classifier           69.48\n",
       "3      Random Forest Classifier           74.67\n",
       "4                    Linear SVM           76.62\n",
       "5           AdaBoost Classifier           74.67\n",
       "6  Gradient Boosting Classifier           75.32"
      ]
     },
     "execution_count": 107,
     "metadata": {},
     "output_type": "execute_result"
    }
   ],
   "source": [
    "new_df = pd.DataFrame({\n",
    "    'Model Name': ['K Neighbors Classifier','Logistic Regression','Decision Tree Classifier','Random Forest Classifier','Linear SVM','AdaBoost Classifier','Gradient Boosting Classifier'],\n",
    "    'Accuracy Score':  [66.23, 76.62, 69.48, 74.67, 76.62, 74.67, 75.32]\n",
    "})\n",
    "new_df"
   ]
  },
  {
   "cell_type": "markdown",
   "id": "888770b5",
   "metadata": {},
   "source": [
    "### Saving the Model (Serialization)"
   ]
  },
  {
   "cell_type": "code",
   "execution_count": 108,
   "id": "2b960646",
   "metadata": {},
   "outputs": [],
   "source": [
    "from pickle import dump\n",
    "\n",
    "dump(sc, open('model/standard_scaler.pkl', 'wb'))\n",
    "dump(knn_model, open('model/knn_model.pkl', 'wb'))\n",
    "dump(lor_model, open('model/lr_model.pkl', 'wb'))\n",
    "dump(dt_model, open('model/dt_model.pkl', 'wb'))\n",
    "dump(rf_model, open('model/rf_model.pkl', 'wb'))\n",
    "dump(svm_model, open('model/svm_model.pkl', 'wb'))\n",
    "dump(ada_model, open('model/ada_model.pkl', 'wb'))\n",
    "dump(gbm_model, open('model/gbm_model.pkl', 'wb'))"
   ]
  },
  {
   "cell_type": "code",
   "execution_count": 109,
   "id": "a4a067a5",
   "metadata": {},
   "outputs": [],
   "source": [
    "import numpy as np\n",
    "from pickle import load"
   ]
  },
  {
   "cell_type": "markdown",
   "id": "14f0a0ec",
   "metadata": {},
   "source": [
    "### Productionisation (Model Deserialization)"
   ]
  },
  {
   "cell_type": "code",
   "execution_count": 110,
   "id": "6af2f95a",
   "metadata": {},
   "outputs": [],
   "source": [
    "sc = load(open('model/standard_scaler.pkl', 'rb'))\n",
    "knn_model = load(open('model/knn_model.pkl', 'rb'))\n",
    "lor_model = load(open('model/lr_model.pkl', 'rb'))\n",
    "dt_model = load(open('model/dt_model.pkl', 'rb'))\n",
    "rf_model = load(open('model/rf_model.pkl', 'rb'))\n",
    "svm_model = load(open('model/svm_model.pkl', 'rb'))\n",
    "ada_model = load(open('model/ada_model.pkl', 'rb'))\n",
    "gbm_model = load(open('model/gbm_model.pkl', 'rb'))"
   ]
  },
  {
   "cell_type": "markdown",
   "id": "5c8cd195",
   "metadata": {},
   "source": [
    "### Read the Query Data\n"
   ]
  },
  {
   "cell_type": "code",
   "execution_count": 111,
   "id": "23dba3f3",
   "metadata": {},
   "outputs": [
    {
     "name": "stdout",
     "output_type": "stream",
     "text": [
      "Enter the diabetes Details\n",
      "Enter Pregnancies : 2\n",
      "Enter Glucose : 138\n",
      "Enter Blood Pressure level : 62\n",
      "Enter Skin Thickness : 35\n",
      "Enter Insulin : 0\n",
      "Enter BMI : 33.6\n",
      "Enter DiabetesPedigreeFunction : 127\n",
      "Enter Age : 47\n"
     ]
    }
   ],
   "source": [
    "print(\"Enter the diabetes Details\")\n",
    "Pregnancies = float(input('Enter Pregnancies : '))\n",
    "Glucose = float(input('Enter Glucose : '))\n",
    "BloodPressure = float(input('Enter Blood Pressure level : '))\n",
    "SkinThickness = float(input('Enter Skin Thickness : '))\n",
    "Insulin = float(input('Enter Insulin : '))\n",
    "BMI= float(input('Enter BMI : '))\n",
    "DiabetesPedigreeFunction = float(input('Enter DiabetesPedigreeFunction : '))\n",
    "Age = float(input('Enter Age : '))"
   ]
  },
  {
   "cell_type": "markdown",
   "id": "d0696800",
   "metadata": {},
   "source": [
    "### Converting the values to 2D Array"
   ]
  },
  {
   "cell_type": "code",
   "execution_count": 112,
   "id": "e18be2e8",
   "metadata": {},
   "outputs": [],
   "source": [
    "query_point = np.array([Pregnancies, Glucose, BloodPressure, SkinThickness, Insulin, BMI, DiabetesPedigreeFunction, Age])"
   ]
  },
  {
   "cell_type": "code",
   "execution_count": 113,
   "id": "7ecf2516",
   "metadata": {},
   "outputs": [
    {
     "data": {
      "text/plain": [
       "array([  2. , 138. ,  62. ,  35. ,   0. ,  33.6, 127. ,  47. ])"
      ]
     },
     "execution_count": 113,
     "metadata": {},
     "output_type": "execute_result"
    }
   ],
   "source": [
    "query_point"
   ]
  },
  {
   "cell_type": "code",
   "execution_count": 114,
   "id": "33b99ee1",
   "metadata": {},
   "outputs": [],
   "source": [
    "query_point = query_point.reshape(1, -1)"
   ]
  },
  {
   "cell_type": "code",
   "execution_count": 115,
   "id": "12888797",
   "metadata": {},
   "outputs": [
    {
     "data": {
      "text/plain": [
       "array([[  2. , 138. ,  62. ,  35. ,   0. ,  33.6, 127. ,  47. ]])"
      ]
     },
     "execution_count": 115,
     "metadata": {},
     "output_type": "execute_result"
    }
   ],
   "source": [
    "query_point"
   ]
  },
  {
   "cell_type": "code",
   "execution_count": 116,
   "id": "5e78a99f",
   "metadata": {},
   "outputs": [
    {
     "data": {
      "text/plain": [
       "array([[-5.42129688e-01,  5.09071628e-01, -3.58901519e-01,\n",
       "         9.02328413e-01, -6.80680418e-01,  2.29323953e-01,\n",
       "         3.87535287e+02,  1.17351933e+00]])"
      ]
     },
     "execution_count": 116,
     "metadata": {},
     "output_type": "execute_result"
    }
   ],
   "source": [
    "query_point_transformed = sc.transform(query_point)\n",
    "query_point_transformed"
   ]
  },
  {
   "cell_type": "markdown",
   "id": "48de2802",
   "metadata": {},
   "source": [
    "### Linear SVM has high accuracy rate, so we select this model to predict whether person has diabetes or not"
   ]
  },
  {
   "cell_type": "code",
   "execution_count": 118,
   "id": "6c7dd6de",
   "metadata": {},
   "outputs": [
    {
     "data": {
      "text/plain": [
       "array([1], dtype=int64)"
      ]
     },
     "execution_count": 118,
     "metadata": {},
     "output_type": "execute_result"
    }
   ],
   "source": [
    "svm_model.predict(query_point_transformed)"
   ]
  },
  {
   "cell_type": "markdown",
   "id": "cae16419",
   "metadata": {},
   "source": [
    "### Production Ready Code"
   ]
  },
  {
   "cell_type": "code",
   "execution_count": null,
   "id": "5e7acd25",
   "metadata": {},
   "outputs": [],
   "source": [
    "print(\"Enter the diabetes Details\")\n",
    "Pregnancies = float(input('Enter Pregnancies : '))\n",
    "Glucose = float(input('Enter Glucose : '))\n",
    "BloodPressure = float(input('Enter Blood Pressure level : '))\n",
    "SkinThickness = float(input('Enter Skin Thickness : '))\n",
    "Insulin = float(input('Enter Insulin : '))\n",
    "BMI= float(input('Enter BMI : '))\n",
    "DiabetesPedigreeFunction = float(input('Enter DiabetesPedigreeFunction : '))\n",
    "Age = float(input('Enter Age : '))\n",
    "query_point = np.array([Pregnancies, Glucose, BloodPressure, SkinThickness, Insulin, BMI, DiabetesPedigreeFunction, Age]).reshape(1, -1)\n",
    "query_point_transformed = sc.transform(query_point)\n",
    "svm_model.predict(query_point_transformed)"
   ]
  }
 ],
 "metadata": {
  "kernelspec": {
   "display_name": "Python 3 (ipykernel)",
   "language": "python",
   "name": "python3"
  },
  "language_info": {
   "codemirror_mode": {
    "name": "ipython",
    "version": 3
   },
   "file_extension": ".py",
   "mimetype": "text/x-python",
   "name": "python",
   "nbconvert_exporter": "python",
   "pygments_lexer": "ipython3",
   "version": "3.10.9"
  }
 },
 "nbformat": 4,
 "nbformat_minor": 5
}
